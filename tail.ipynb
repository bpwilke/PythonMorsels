{
 "cells": [
  {
   "cell_type": "raw",
   "metadata": {},
   "source": [
    "This week I want you to make a function that takes a sequence (like a list, string, or tuple) and a number n and returns the last n elements from the given sequence, as a list.\n",
    "\n",
    "For example:\n",
    "\n",
    ">>> tail([1, 2, 3, 4, 5], 3)\n",
    "[3, 4, 5]\n",
    ">>> tail('hello', 2)\n",
    "['l', 'o']\n",
    ">>> tail('hello', 0)\n",
    "[]\n",
    "Bonus 1\n",
    "\n",
    "As a bonus, make your function return an empty list for negative values of n ✔️:\n",
    "\n",
    ">>> tail('hello', -2)\n",
    "[]\n",
    "Bonus 2\n",
    "\n",
    "As a second bonus, make sure your function works with any iterable, not just sequences. ✔️ For example:\n",
    "\n",
    ">>> squares = (n**2 for n in range(10))\n",
    ">>> tail(squares, 3)\n",
    "[49, 64, 81]\n",
    "You should make sure you don't loop at all if n is 0 or negative.\n",
    "\n",
    "See if you can make your function relatively memory efficient (if you're looping over a very long iterable, don't store the entire thing in memory)."
   ]
  },
  {
   "cell_type": "markdown",
   "metadata": {},
   "source": [
    "# Base"
   ]
  },
  {
   "cell_type": "code",
   "execution_count": 52,
   "metadata": {},
   "outputs": [],
   "source": [
    "def tail(inseq, revidx):\n",
    "    inseq = list(inseq)     # convert tuples to list, str to broken out list\n",
    "    if revidx <= 0:         # solve for case when requested index is 0 or negative\n",
    "        return list()\n",
    "    if revidx > len(inseq): # solve for case when requested index is larger than whole sequence\n",
    "        return inseq\n",
    "    return inseq[len(inseq) - revidx:]"
   ]
  },
  {
   "cell_type": "code",
   "execution_count": 53,
   "metadata": {},
   "outputs": [
    {
     "data": {
      "text/plain": [
       "[1, 2, 3, 4, 5]"
      ]
     },
     "execution_count": 53,
     "metadata": {},
     "output_type": "execute_result"
    }
   ],
   "source": [
    "tail([1, 2, 3, 4, 5], 6)"
   ]
  },
  {
   "cell_type": "code",
   "execution_count": 54,
   "metadata": {},
   "outputs": [
    {
     "data": {
      "text/plain": [
       "['l', 'o']"
      ]
     },
     "execution_count": 54,
     "metadata": {},
     "output_type": "execute_result"
    }
   ],
   "source": [
    "tail('hello', 2)"
   ]
  },
  {
   "cell_type": "code",
   "execution_count": 55,
   "metadata": {},
   "outputs": [
    {
     "data": {
      "text/plain": [
       "[]"
      ]
     },
     "execution_count": 55,
     "metadata": {},
     "output_type": "execute_result"
    }
   ],
   "source": [
    "tail('hello', 0)"
   ]
  },
  {
   "cell_type": "markdown",
   "metadata": {},
   "source": [
    "# Bonus 1"
   ]
  },
  {
   "cell_type": "code",
   "execution_count": 36,
   "metadata": {},
   "outputs": [],
   "source": [
    "# already solved in the base"
   ]
  },
  {
   "cell_type": "markdown",
   "metadata": {},
   "source": [
    "# Bonus 2"
   ]
  },
  {
   "cell_type": "code",
   "execution_count": 59,
   "metadata": {},
   "outputs": [],
   "source": [
    "# https://pymotw.com/3/collections/deque.html#constraining-the-queue-size"
   ]
  },
  {
   "cell_type": "code",
   "execution_count": 97,
   "metadata": {},
   "outputs": [],
   "source": [
    "import types\n",
    "from collections import deque\n",
    "\n",
    "def tail(inseq, revidx):\n",
    "    if revidx <= 0:         # solve for case when requested index is 0 or negative\n",
    "        return list()\n",
    "    \n",
    "    if isinstance(inseq, types.GeneratorType) == True:  # check if generator\n",
    "        d1 = deque(maxlen=revidx)                       # create deque with max len of our revidx \n",
    "        for each in inseq:                              # iterate through generator\n",
    "            d1.append(each)                             # keeping only the length of the output\n",
    "        return list(d1)                                 # convert deque to list\n",
    "    ## assume that the inseq is not a generatorre: toe\n",
    "    inseq = list(inseq)     # convert tuples to list, str to broken out list\n",
    "\n",
    "    if revidx > len(inseq): # solve for case when requested index is larger than whole sequence\n",
    "        return inseq\n",
    "    return inseq[len(inseq) - revidx:]"
   ]
  },
  {
   "cell_type": "code",
   "execution_count": 105,
   "metadata": {},
   "outputs": [
    {
     "data": {
      "text/plain": [
       "[49, 64, 81]"
      ]
     },
     "execution_count": 105,
     "metadata": {},
     "output_type": "execute_result"
    }
   ],
   "source": [
    "squares = (n**2 for n in range(10))\n",
    "tail(squares, 3)\n"
   ]
  },
  {
   "cell_type": "code",
   "execution_count": 98,
   "metadata": {},
   "outputs": [
    {
     "data": {
      "text/plain": [
       "[]"
      ]
     },
     "execution_count": 98,
     "metadata": {},
     "output_type": "execute_result"
    }
   ],
   "source": [
    "nums = (n**2 for n in [1, 2, 3, 4])\n",
    "\n",
    "tail(nums, -1) #, [])  # Don't loop for negative n\n"
   ]
  },
  {
   "cell_type": "code",
   "execution_count": 99,
   "metadata": {},
   "outputs": [
    {
     "data": {
      "text/plain": [
       "[]"
      ]
     },
     "execution_count": 99,
     "metadata": {},
     "output_type": "execute_result"
    }
   ],
   "source": [
    "\n",
    "tail(nums, 0) #, [])  # Don't loop for n=0\n"
   ]
  },
  {
   "cell_type": "code",
   "execution_count": 100,
   "metadata": {},
   "outputs": [
    {
     "data": {
      "text/plain": [
       "[9, 16]"
      ]
     },
     "execution_count": 100,
     "metadata": {},
     "output_type": "execute_result"
    }
   ],
   "source": [
    "tail(nums, 2) #, [9, 16])  # Consuming the generator\n"
   ]
  },
  {
   "cell_type": "code",
   "execution_count": 103,
   "metadata": {},
   "outputs": [
    {
     "data": {
      "text/plain": [
       "[]"
      ]
     },
     "execution_count": 103,
     "metadata": {},
     "output_type": "execute_result"
    }
   ],
   "source": [
    "list(nums)  # should now be empty list"
   ]
  },
  {
   "cell_type": "code",
   "execution_count": 104,
   "metadata": {},
   "outputs": [
    {
     "data": {
      "text/plain": [
       "[]"
      ]
     },
     "execution_count": 104,
     "metadata": {},
     "output_type": "execute_result"
    }
   ],
   "source": [
    "tail(nums, 1)   #, [])  # n=1 with a now empty generator"
   ]
  }
 ],
 "metadata": {
  "kernelspec": {
   "display_name": "Python 3",
   "language": "python",
   "name": "python3"
  },
  "language_info": {
   "codemirror_mode": {
    "name": "ipython",
    "version": 3
   },
   "file_extension": ".py",
   "mimetype": "text/x-python",
   "name": "python",
   "nbconvert_exporter": "python",
   "pygments_lexer": "ipython3",
   "version": "3.6.5"
  }
 },
 "nbformat": 4,
 "nbformat_minor": 2
}
