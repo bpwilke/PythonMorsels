{
 "cells": [
  {
   "cell_type": "raw",
   "metadata": {},
   "source": [
    "Greetings!\n",
    "\n",
    "When solving this week's exercise, make sure to hold off on searching directly for the answer on Google/StackOverflow. 🚫🔍\n",
    "\n",
    "This is a fairly general exercise and there are a number of answers to it. I'd like you to struggle to come to an answer or two (or five?) on your own.\n",
    "\n",
    "I want you to write a function that accepts a string and returns a mapping (a dictionary or dictionary-like structure) that has words as the keys and the number of times each word was seen as the values.\n",
    "\n",
    "Your function should work like this:\n",
    "\n",
    ">>> count_words(\"oh what a day what a lovely day\")\n",
    "{'oh': 1, 'what': 2, 'a': 2, 'day': 2, 'lovely': 1}\n",
    ">>> count_words(\"don't stop believing\")\n",
    "{\"don't\": 1, 'stop': 1, 'believing': 1}\n",
    "Bonus 1\n",
    "\n",
    "As a bonus, make sure your function works well with mixed case words:\n",
    "\n",
    ">>> count_words(\"Oh what a day what a lovely day\")\n",
    "{'oh': 1, 'what': 2, 'a': 2, 'day': 2, 'lovely': 1}\n",
    "Bonus 2\n",
    "\n",
    "For even more of a bonus try to get your function to ignore punctuation outside of words:\n",
    "\n",
    ">>> count_words(\"Oh what a day, what a lovely day!\")\n",
    "{'oh': 1, 'what': 2, 'a': 2, 'day': 2, 'lovely': 1}\n"
   ]
  },
  {
   "cell_type": "markdown",
   "metadata": {},
   "source": [
    "# Base Solution(s)"
   ]
  },
  {
   "cell_type": "code",
   "execution_count": 13,
   "metadata": {},
   "outputs": [],
   "source": [
    "test = \"this is My testing sentence it has some words that are repeated in the testing sentence\""
   ]
  },
  {
   "cell_type": "code",
   "execution_count": 11,
   "metadata": {},
   "outputs": [],
   "source": [
    "# this solution is pretty brute force, but gets 'er done.\n",
    "def count_words(input_sentence):\n",
    "    count_dict = dict()\n",
    "    word_list = input_sentence.lower().split()       # this solves Bonus 1, force all words to lower\n",
    "    for word in word_list:\n",
    "        if word not in count_dict.keys():            # if the word isn't yet in our counting dict\n",
    "            count_dict[word] = 1                     # then consider it the first instance\n",
    "        else:                                        # otherwise\n",
    "            count_dict[word] = count_dict[word] + 1  # increment count of that word\n",
    "    return count_dict"
   ]
  },
  {
   "cell_type": "code",
   "execution_count": 21,
   "metadata": {},
   "outputs": [
    {
     "data": {
      "text/plain": [
       "{'this': 1,\n",
       " 'is': 1,\n",
       " 'my': 1,\n",
       " 'testing': 2,\n",
       " 'sentence': 2,\n",
       " 'it': 1,\n",
       " 'has': 1,\n",
       " 'some': 1,\n",
       " 'words': 1,\n",
       " 'that': 1,\n",
       " 'are': 1,\n",
       " 'repeated': 1,\n",
       " 'in': 1,\n",
       " 'the': 1}"
      ]
     },
     "execution_count": 21,
     "metadata": {},
     "output_type": "execute_result"
    }
   ],
   "source": [
    "count_words(test)"
   ]
  },
  {
   "cell_type": "code",
   "execution_count": 20,
   "metadata": {},
   "outputs": [],
   "source": [
    "# this solution uses dict.get() method.\n",
    "def count_words1(input_sentence):\n",
    "    count_dict = dict()\n",
    "    word_list = input_sentence.lower().split()          # this solves Bonus 1, force all words to lower\n",
    "    for word in word_list:\n",
    "        if count_dict.get(word) is None:                # if the word isn't yet in our counting dict\n",
    "            count_dict[word] = 1                        # then consider it the first instance\n",
    "        else:                                           # otherwise\n",
    "            count_dict[word] = count_dict.get(word) + 1 # increment count of that word\n",
    "    return count_dict"
   ]
  },
  {
   "cell_type": "code",
   "execution_count": 22,
   "metadata": {},
   "outputs": [
    {
     "data": {
      "text/plain": [
       "{'this': 1,\n",
       " 'is': 1,\n",
       " 'my': 1,\n",
       " 'testing': 2,\n",
       " 'sentence': 2,\n",
       " 'it': 1,\n",
       " 'has': 1,\n",
       " 'some': 1,\n",
       " 'words': 1,\n",
       " 'that': 1,\n",
       " 'are': 1,\n",
       " 'repeated': 1,\n",
       " 'in': 1,\n",
       " 'the': 1}"
      ]
     },
     "execution_count": 22,
     "metadata": {},
     "output_type": "execute_result"
    }
   ],
   "source": [
    "count_words1(test)"
   ]
  },
  {
   "cell_type": "code",
   "execution_count": 27,
   "metadata": {},
   "outputs": [],
   "source": [
    "# this solution uses the Collections Counters module.\n",
    "from collections import Counter\n",
    "\n",
    "def count_words(input_sentence):\n",
    "    count_dict = dict()\n",
    "    word_list = input_sentence.lower().split()          # this solves Bonus 1, force all words to lower\n",
    "    return dict(Counter(word_list))"
   ]
  },
  {
   "cell_type": "code",
   "execution_count": 28,
   "metadata": {},
   "outputs": [
    {
     "data": {
      "text/plain": [
       "{'this': 1,\n",
       " 'is': 1,\n",
       " 'my': 1,\n",
       " 'testing': 2,\n",
       " 'sentence': 2,\n",
       " 'it': 1,\n",
       " 'has': 1,\n",
       " 'some': 1,\n",
       " 'words': 1,\n",
       " 'that': 1,\n",
       " 'are': 1,\n",
       " 'repeated': 1,\n",
       " 'in': 1,\n",
       " 'the': 1}"
      ]
     },
     "execution_count": 28,
     "metadata": {},
     "output_type": "execute_result"
    }
   ],
   "source": [
    "count_words3(test)"
   ]
  },
  {
   "cell_type": "markdown",
   "metadata": {},
   "source": [
    "# Bonus 1"
   ]
  },
  {
   "cell_type": "code",
   "execution_count": null,
   "metadata": {},
   "outputs": [],
   "source": [
    "# already solved"
   ]
  },
  {
   "cell_type": "markdown",
   "metadata": {},
   "source": [
    "# Bonus 2"
   ]
  },
  {
   "cell_type": "code",
   "execution_count": 34,
   "metadata": {},
   "outputs": [],
   "source": [
    "test_punct = \"this is My testing \\\"sentence\\\". It has some words - that are repeated!! Don't In the testing sentence??\""
   ]
  },
  {
   "cell_type": "code",
   "execution_count": 36,
   "metadata": {},
   "outputs": [],
   "source": [
    "# this solution uses the Collections Counters module, and strips punctuation\n",
    "from collections import Counter\n",
    "import re                                                   # inport regex\n",
    "def count_words(input_sentence):\n",
    "    count_dict = dict()\n",
    "    input_sentence = re.sub(r'[^\\w\\d\\s\\']+', '', input_sentence) # strip the punctuation\n",
    "    word_list = input_sentence.lower().split()              # this solves Bonus 1, force all words to lower\n",
    "    return dict(Counter(word_list))"
   ]
  },
  {
   "cell_type": "code",
   "execution_count": 37,
   "metadata": {},
   "outputs": [
    {
     "data": {
      "text/plain": [
       "{'this': 1,\n",
       " 'is': 1,\n",
       " 'my': 1,\n",
       " 'testing': 2,\n",
       " 'sentence': 2,\n",
       " 'it': 1,\n",
       " 'has': 1,\n",
       " 'some': 1,\n",
       " 'words': 1,\n",
       " 'that': 1,\n",
       " 'are': 1,\n",
       " 'repeated': 1,\n",
       " \"don't\": 1,\n",
       " 'in': 1,\n",
       " 'the': 1}"
      ]
     },
     "execution_count": 37,
     "metadata": {},
     "output_type": "execute_result"
    }
   ],
   "source": [
    "count_words_punct(test_punct)"
   ]
  }
 ],
 "metadata": {
  "kernelspec": {
   "display_name": "Python 3",
   "language": "python",
   "name": "python3"
  },
  "language_info": {
   "codemirror_mode": {
    "name": "ipython",
    "version": 3
   },
   "file_extension": ".py",
   "mimetype": "text/x-python",
   "name": "python",
   "nbconvert_exporter": "python",
   "pygments_lexer": "ipython3",
   "version": "3.6.5"
  }
 },
 "nbformat": 4,
 "nbformat_minor": 2
}
