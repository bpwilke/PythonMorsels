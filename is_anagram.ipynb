{
 "cells": [
  {
   "cell_type": "raw",
   "metadata": {},
   "source": [
    "I want you to write a function that accepts two strings and returns True if the two strings are anagrams of each other.\n",
    "\n",
    "Your function should work like this:\n",
    "\n",
    ">>> is_anagram(\"tea\", \"eat\")\n",
    "True\n",
    ">>> is_anagram(\"tea\", \"treat\")\n",
    "False\n",
    ">>> is_anagram(\"sinks\", \"skin\")\n",
    "False\n",
    ">>> is_anagram(\"Listen\", \"silent\")\n",
    "True\n",
    "Make sure your function works with mixed case.\n",
    "\n",
    "Before you try to solve any bonuses, I recommend you try to find at least two ways to solve this problem.\n",
    "\n",
    "Okay now to the bonuses...\n",
    "\n",
    "Bonus 1\n",
    "\n",
    "For the first bonus, make sure your function ignores spaces ✔️:\n",
    "\n",
    ">>> is_anagram(\"coins kept\", \"in pockets\")\n",
    "True\n",
    "Bonus 2\n",
    "\n",
    "For a second bonus, make sure your function also ignores punctuation ✔️:\n",
    "\n",
    ">>> is_anagram(\"a diet\", \"I'd eat\")\n",
    "True\n",
    "Bonus 3\n",
    "\n",
    "If you solved this one really quickly, here's a more challenging third bonus for you: try allowing accented latin1 characters but ignoring the accent marks. ✔️\n",
    "\n",
    ">>> is_anagram(\"cardiografía\", \"radiográfica\")\n",
    "True"
   ]
  },
  {
   "cell_type": "markdown",
   "metadata": {},
   "source": [
    "# Base"
   ]
  },
  {
   "cell_type": "code",
   "execution_count": 6,
   "metadata": {},
   "outputs": [],
   "source": [
    "# so this is the most pythonic way..\n",
    "from collections import Counter\n",
    "\n",
    "def is_anagram(string1, string2):\n",
    "    c1 = Counter(list(string1.lower())) # string to lower, pass as list (sequence) to Counter\n",
    "    c2 = Counter(list(string2.lower())) # string to lower, pass as list (sequence) to Counter\n",
    "    return c1 == c2                     # make comparison"
   ]
  },
  {
   "cell_type": "code",
   "execution_count": 10,
   "metadata": {},
   "outputs": [
    {
     "data": {
      "text/plain": [
       "True"
      ]
     },
     "execution_count": 10,
     "metadata": {},
     "output_type": "execute_result"
    }
   ],
   "source": [
    "is_anagram(\"tea\", \"eat\")"
   ]
  },
  {
   "cell_type": "code",
   "execution_count": 11,
   "metadata": {},
   "outputs": [
    {
     "data": {
      "text/plain": [
       "False"
      ]
     },
     "execution_count": 11,
     "metadata": {},
     "output_type": "execute_result"
    }
   ],
   "source": [
    "is_anagram(\"tea\", \"treat\")"
   ]
  },
  {
   "cell_type": "code",
   "execution_count": 12,
   "metadata": {},
   "outputs": [
    {
     "data": {
      "text/plain": [
       "False"
      ]
     },
     "execution_count": 12,
     "metadata": {},
     "output_type": "execute_result"
    }
   ],
   "source": [
    "is_anagram(\"sinks\", \"skin\")"
   ]
  },
  {
   "cell_type": "code",
   "execution_count": 13,
   "metadata": {},
   "outputs": [
    {
     "data": {
      "text/plain": [
       "True"
      ]
     },
     "execution_count": 13,
     "metadata": {},
     "output_type": "execute_result"
    }
   ],
   "source": [
    "is_anagram(\"Listen\", \"silent\")"
   ]
  },
  {
   "cell_type": "code",
   "execution_count": 14,
   "metadata": {},
   "outputs": [],
   "source": [
    "# this way is a little more brute force, still uses dict.get(), so not really verbose like checking dict.keys()\n",
    "def is_anagram(string1, string2):\n",
    "    d1 = dict()\n",
    "    d2 = dict()\n",
    "    for char in list(string1.lower()):\n",
    "        d1[char] = d1.get(char, 1) + 1\n",
    "    for char in list(string2.lower()):\n",
    "        d2[char] = d2.get(char, 1) + 1 \n",
    "    return d1 == d2"
   ]
  },
  {
   "cell_type": "code",
   "execution_count": 15,
   "metadata": {},
   "outputs": [
    {
     "data": {
      "text/plain": [
       "True"
      ]
     },
     "execution_count": 15,
     "metadata": {},
     "output_type": "execute_result"
    }
   ],
   "source": [
    "is_anagram(\"tea\", \"eat\")"
   ]
  },
  {
   "cell_type": "code",
   "execution_count": 16,
   "metadata": {},
   "outputs": [
    {
     "data": {
      "text/plain": [
       "False"
      ]
     },
     "execution_count": 16,
     "metadata": {},
     "output_type": "execute_result"
    }
   ],
   "source": [
    "is_anagram(\"tea\", \"treat\")"
   ]
  },
  {
   "cell_type": "code",
   "execution_count": 18,
   "metadata": {},
   "outputs": [
    {
     "data": {
      "text/plain": [
       "False"
      ]
     },
     "execution_count": 18,
     "metadata": {},
     "output_type": "execute_result"
    }
   ],
   "source": [
    "is_anagram(\"sinks\", \"skin\")"
   ]
  },
  {
   "cell_type": "code",
   "execution_count": 19,
   "metadata": {},
   "outputs": [
    {
     "data": {
      "text/plain": [
       "True"
      ]
     },
     "execution_count": 19,
     "metadata": {},
     "output_type": "execute_result"
    }
   ],
   "source": [
    "is_anagram(\"Listen\", \"silent\")"
   ]
  },
  {
   "cell_type": "markdown",
   "metadata": {},
   "source": [
    "# Bonus 1"
   ]
  },
  {
   "cell_type": "code",
   "execution_count": 23,
   "metadata": {},
   "outputs": [],
   "source": [
    "# so this is the most pythonic way..ignoring spaces.\n",
    "from collections import Counter\n",
    "\n",
    "def is_anagram(string1, string2):\n",
    "    c1 = Counter([char for char in list(string1.lower()) if char != ' ']) # string to lower, pass as list (sequence) to Counter\n",
    "    c2 = Counter([char for char in list(string2.lower()) if char != ' ']) # string to lower, pass as list (sequence) to Counter\n",
    "    return c1 == c2                     # make comparison"
   ]
  },
  {
   "cell_type": "code",
   "execution_count": 24,
   "metadata": {},
   "outputs": [
    {
     "data": {
      "text/plain": [
       "True"
      ]
     },
     "execution_count": 24,
     "metadata": {},
     "output_type": "execute_result"
    }
   ],
   "source": [
    "is_anagram(\"coins kept\", \"in pockets\")"
   ]
  },
  {
   "cell_type": "markdown",
   "metadata": {},
   "source": [
    "# Bonus 2"
   ]
  },
  {
   "cell_type": "code",
   "execution_count": 27,
   "metadata": {},
   "outputs": [],
   "source": [
    "# so this is the most pythonic way..ignoring spaces and punctuation still using list comprehension\n",
    "from collections import Counter\n",
    "\n",
    "def is_anagram(string1, string2):\n",
    "    c1 = Counter([char for char in list(string1.lower()) if char not in ' \\'!?.,:;']) # string to lower, pass as list (sequence) to Counter\n",
    "    c2 = Counter([char for char in list(string2.lower()) if char not in ' \\'!?.,:;']) # string to lower, pass as list (sequence) to Counter\n",
    "    return c1 == c2                     # make comparison"
   ]
  },
  {
   "cell_type": "code",
   "execution_count": 28,
   "metadata": {},
   "outputs": [
    {
     "data": {
      "text/plain": [
       "True"
      ]
     },
     "execution_count": 28,
     "metadata": {},
     "output_type": "execute_result"
    }
   ],
   "source": [
    "is_anagram(\"a diet\", \"I'd eat\")"
   ]
  }
 ],
 "metadata": {
  "kernelspec": {
   "display_name": "Python 3",
   "language": "python",
   "name": "python3"
  },
  "language_info": {
   "codemirror_mode": {
    "name": "ipython",
    "version": 3
   },
   "file_extension": ".py",
   "mimetype": "text/x-python",
   "name": "python",
   "nbconvert_exporter": "python",
   "pygments_lexer": "ipython3",
   "version": "3.6.5"
  }
 },
 "nbformat": 4,
 "nbformat_minor": 2
}
